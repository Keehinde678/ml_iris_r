{
 "cells": [
  {
   "cell_type": "markdown",
   "id": "5a00f34a-bdfa-43b6-8240-18ec00d2d999",
   "metadata": {},
   "source": [
    "## Load the Iris Dataset"
   ]
  },
  {
   "cell_type": "code",
   "execution_count": 9,
   "id": "514847e2-82ab-4133-a140-7420ae206170",
   "metadata": {},
   "outputs": [
    {
     "data": {
      "text/html": [
       "<table class=\"dataframe\">\n",
       "<caption>A data.frame: 6 × 5</caption>\n",
       "<thead>\n",
       "\t<tr><th></th><th scope=col>Sepal.Length</th><th scope=col>Sepal.Width</th><th scope=col>Petal.Length</th><th scope=col>Petal.Width</th><th scope=col>Species</th></tr>\n",
       "\t<tr><th></th><th scope=col>&lt;dbl&gt;</th><th scope=col>&lt;dbl&gt;</th><th scope=col>&lt;dbl&gt;</th><th scope=col>&lt;dbl&gt;</th><th scope=col>&lt;fct&gt;</th></tr>\n",
       "</thead>\n",
       "<tbody>\n",
       "\t<tr><th scope=row>1</th><td>5.1</td><td>3.5</td><td>1.4</td><td>0.2</td><td>setosa</td></tr>\n",
       "\t<tr><th scope=row>2</th><td>4.9</td><td>3.0</td><td>1.4</td><td>0.2</td><td>setosa</td></tr>\n",
       "\t<tr><th scope=row>3</th><td>4.7</td><td>3.2</td><td>1.3</td><td>0.2</td><td>setosa</td></tr>\n",
       "\t<tr><th scope=row>4</th><td>4.6</td><td>3.1</td><td>1.5</td><td>0.2</td><td>setosa</td></tr>\n",
       "\t<tr><th scope=row>5</th><td>5.0</td><td>3.6</td><td>1.4</td><td>0.2</td><td>setosa</td></tr>\n",
       "\t<tr><th scope=row>6</th><td>5.4</td><td>3.9</td><td>1.7</td><td>0.4</td><td>setosa</td></tr>\n",
       "</tbody>\n",
       "</table>\n"
      ],
      "text/latex": [
       "A data.frame: 6 × 5\n",
       "\\begin{tabular}{r|lllll}\n",
       "  & Sepal.Length & Sepal.Width & Petal.Length & Petal.Width & Species\\\\\n",
       "  & <dbl> & <dbl> & <dbl> & <dbl> & <fct>\\\\\n",
       "\\hline\n",
       "\t1 & 5.1 & 3.5 & 1.4 & 0.2 & setosa\\\\\n",
       "\t2 & 4.9 & 3.0 & 1.4 & 0.2 & setosa\\\\\n",
       "\t3 & 4.7 & 3.2 & 1.3 & 0.2 & setosa\\\\\n",
       "\t4 & 4.6 & 3.1 & 1.5 & 0.2 & setosa\\\\\n",
       "\t5 & 5.0 & 3.6 & 1.4 & 0.2 & setosa\\\\\n",
       "\t6 & 5.4 & 3.9 & 1.7 & 0.4 & setosa\\\\\n",
       "\\end{tabular}\n"
      ],
      "text/markdown": [
       "\n",
       "A data.frame: 6 × 5\n",
       "\n",
       "| <!--/--> | Sepal.Length &lt;dbl&gt; | Sepal.Width &lt;dbl&gt; | Petal.Length &lt;dbl&gt; | Petal.Width &lt;dbl&gt; | Species &lt;fct&gt; |\n",
       "|---|---|---|---|---|---|\n",
       "| 1 | 5.1 | 3.5 | 1.4 | 0.2 | setosa |\n",
       "| 2 | 4.9 | 3.0 | 1.4 | 0.2 | setosa |\n",
       "| 3 | 4.7 | 3.2 | 1.3 | 0.2 | setosa |\n",
       "| 4 | 4.6 | 3.1 | 1.5 | 0.2 | setosa |\n",
       "| 5 | 5.0 | 3.6 | 1.4 | 0.2 | setosa |\n",
       "| 6 | 5.4 | 3.9 | 1.7 | 0.4 | setosa |\n",
       "\n"
      ],
      "text/plain": [
       "  Sepal.Length Sepal.Width Petal.Length Petal.Width Species\n",
       "1 5.1          3.5         1.4          0.2         setosa \n",
       "2 4.9          3.0         1.4          0.2         setosa \n",
       "3 4.7          3.2         1.3          0.2         setosa \n",
       "4 4.6          3.1         1.5          0.2         setosa \n",
       "5 5.0          3.6         1.4          0.2         setosa \n",
       "6 5.4          3.9         1.7          0.4         setosa "
      ]
     },
     "metadata": {},
     "output_type": "display_data"
    }
   ],
   "source": [
    "# Load the built-in iris dataset\n",
    "data(iris)\n",
    "\n",
    "# Rename it to 'dataset' for consistency\n",
    "dataset <- iris\n",
    "\n",
    "# Take a quick look at the first few rows\n",
    "head(dataset)"
   ]
  },
  {
   "cell_type": "markdown",
   "id": "bdc3ece4-22da-4563-ad02-1ea0a7b273bb",
   "metadata": {},
   "source": [
    "## Split the Dataset into Training and Validation"
   ]
  },
  {
   "cell_type": "code",
   "execution_count": 12,
   "id": "c20fa0ca-be36-48ac-aa20-f83241911c5a",
   "metadata": {},
   "outputs": [
    {
     "name": "stderr",
     "output_type": "stream",
     "text": [
      "Loading required package: lattice\n",
      "\n"
     ]
    },
    {
     "data": {
      "text/html": [
       "<style>\n",
       ".list-inline {list-style: none; margin:0; padding: 0}\n",
       ".list-inline>li {display: inline-block}\n",
       ".list-inline>li:not(:last-child)::after {content: \"\\00b7\"; padding: 0 .5ex}\n",
       "</style>\n",
       "<ol class=list-inline><li>120</li><li>5</li></ol>\n"
      ],
      "text/latex": [
       "\\begin{enumerate*}\n",
       "\\item 120\n",
       "\\item 5\n",
       "\\end{enumerate*}\n"
      ],
      "text/markdown": [
       "1. 120\n",
       "2. 5\n",
       "\n",
       "\n"
      ],
      "text/plain": [
       "[1] 120   5"
      ]
     },
     "metadata": {},
     "output_type": "display_data"
    },
    {
     "data": {
      "text/html": [
       "<style>\n",
       ".list-inline {list-style: none; margin:0; padding: 0}\n",
       ".list-inline>li {display: inline-block}\n",
       ".list-inline>li:not(:last-child)::after {content: \"\\00b7\"; padding: 0 .5ex}\n",
       "</style>\n",
       "<ol class=list-inline><li>30</li><li>5</li></ol>\n"
      ],
      "text/latex": [
       "\\begin{enumerate*}\n",
       "\\item 30\n",
       "\\item 5\n",
       "\\end{enumerate*}\n"
      ],
      "text/markdown": [
       "1. 30\n",
       "2. 5\n",
       "\n",
       "\n"
      ],
      "text/plain": [
       "[1] 30  5"
      ]
     },
     "metadata": {},
     "output_type": "display_data"
    }
   ],
   "source": [
    "# Load caret package for partitioning\n",
    "library(caret)\n",
    "\n",
    "# Create an 80% sample for training\n",
    "set.seed(123)  # ensures reproducibility\n",
    "validation_index <- createDataPartition(dataset$Species, p = 0.80, list = FALSE)\n",
    "\n",
    "# Split the data\n",
    "validation <- dataset[-validation_index, ]   # 20% held back for validation\n",
    "dataset <- dataset[validation_index, ]       # 80% for training\n",
    "\n",
    "# Check dimensions to verify\n",
    "dim(dataset)      # training data (should be ~120 rows)\n",
    "dim(validation)   # validation data (should be ~30 rows)\n"
   ]
  },
  {
   "cell_type": "markdown",
   "id": "779725bd-9152-4da2-92d0-4341fe1a8553",
   "metadata": {},
   "source": [
    "## Dimensions of Dataset"
   ]
  },
  {
   "cell_type": "code",
   "execution_count": 15,
   "id": "9e5aed29-aa3c-4e69-a53e-3d6f8cc54b85",
   "metadata": {},
   "outputs": [
    {
     "data": {
      "text/html": [
       "<style>\n",
       ".list-inline {list-style: none; margin:0; padding: 0}\n",
       ".list-inline>li {display: inline-block}\n",
       ".list-inline>li:not(:last-child)::after {content: \"\\00b7\"; padding: 0 .5ex}\n",
       "</style>\n",
       "<ol class=list-inline><li>120</li><li>5</li></ol>\n"
      ],
      "text/latex": [
       "\\begin{enumerate*}\n",
       "\\item 120\n",
       "\\item 5\n",
       "\\end{enumerate*}\n"
      ],
      "text/markdown": [
       "1. 120\n",
       "2. 5\n",
       "\n",
       "\n"
      ],
      "text/plain": [
       "[1] 120   5"
      ]
     },
     "metadata": {},
     "output_type": "display_data"
    }
   ],
   "source": [
    "# dimensions of dataset\n",
    "dim(dataset)\n"
   ]
  },
  {
   "cell_type": "markdown",
   "id": "96a6df5f-5bd8-4d69-bb6c-7118ec760171",
   "metadata": {},
   "source": [
    "## Types of Attributes"
   ]
  },
  {
   "cell_type": "code",
   "execution_count": 18,
   "id": "2558158c-fdbb-40b4-a5c0-cf95b4b76cd1",
   "metadata": {},
   "outputs": [
    {
     "data": {
      "text/html": [
       "<style>\n",
       ".dl-inline {width: auto; margin:0; padding: 0}\n",
       ".dl-inline>dt, .dl-inline>dd {float: none; width: auto; display: inline-block}\n",
       ".dl-inline>dt::after {content: \":\\0020\"; padding-right: .5ex}\n",
       ".dl-inline>dt:not(:first-of-type) {padding-left: .5ex}\n",
       "</style><dl class=dl-inline><dt>Sepal.Length</dt><dd>'numeric'</dd><dt>Sepal.Width</dt><dd>'numeric'</dd><dt>Petal.Length</dt><dd>'numeric'</dd><dt>Petal.Width</dt><dd>'numeric'</dd><dt>Species</dt><dd>'factor'</dd></dl>\n"
      ],
      "text/latex": [
       "\\begin{description*}\n",
       "\\item[Sepal.Length] 'numeric'\n",
       "\\item[Sepal.Width] 'numeric'\n",
       "\\item[Petal.Length] 'numeric'\n",
       "\\item[Petal.Width] 'numeric'\n",
       "\\item[Species] 'factor'\n",
       "\\end{description*}\n"
      ],
      "text/markdown": [
       "Sepal.Length\n",
       ":   'numeric'Sepal.Width\n",
       ":   'numeric'Petal.Length\n",
       ":   'numeric'Petal.Width\n",
       ":   'numeric'Species\n",
       ":   'factor'\n",
       "\n"
      ],
      "text/plain": [
       "Sepal.Length  Sepal.Width Petal.Length  Petal.Width      Species \n",
       "   \"numeric\"    \"numeric\"    \"numeric\"    \"numeric\"     \"factor\" "
      ]
     },
     "metadata": {},
     "output_type": "display_data"
    }
   ],
   "source": [
    "# list types for each attribute\n",
    "sapply(dataset, class)\n"
   ]
  },
  {
   "cell_type": "code",
   "execution_count": 1,
   "id": "452a7679-b9aa-481b-bccb-691fa58bb858",
   "metadata": {},
   "outputs": [
    {
     "data": {
      "text/html": [
       "<table class=\"dataframe\">\n",
       "<caption>A data.frame: 6 × 11</caption>\n",
       "<thead>\n",
       "\t<tr><th></th><th scope=col>mpg</th><th scope=col>cyl</th><th scope=col>disp</th><th scope=col>hp</th><th scope=col>drat</th><th scope=col>wt</th><th scope=col>qsec</th><th scope=col>vs</th><th scope=col>am</th><th scope=col>gear</th><th scope=col>carb</th></tr>\n",
       "\t<tr><th></th><th scope=col>&lt;dbl&gt;</th><th scope=col>&lt;dbl&gt;</th><th scope=col>&lt;dbl&gt;</th><th scope=col>&lt;dbl&gt;</th><th scope=col>&lt;dbl&gt;</th><th scope=col>&lt;dbl&gt;</th><th scope=col>&lt;dbl&gt;</th><th scope=col>&lt;dbl&gt;</th><th scope=col>&lt;dbl&gt;</th><th scope=col>&lt;dbl&gt;</th><th scope=col>&lt;dbl&gt;</th></tr>\n",
       "</thead>\n",
       "<tbody>\n",
       "\t<tr><th scope=row>Mazda RX4</th><td>21.0</td><td>6</td><td>160</td><td>110</td><td>3.90</td><td>2.620</td><td>16.46</td><td>0</td><td>1</td><td>4</td><td>4</td></tr>\n",
       "\t<tr><th scope=row>Mazda RX4 Wag</th><td>21.0</td><td>6</td><td>160</td><td>110</td><td>3.90</td><td>2.875</td><td>17.02</td><td>0</td><td>1</td><td>4</td><td>4</td></tr>\n",
       "\t<tr><th scope=row>Datsun 710</th><td>22.8</td><td>4</td><td>108</td><td> 93</td><td>3.85</td><td>2.320</td><td>18.61</td><td>1</td><td>1</td><td>4</td><td>1</td></tr>\n",
       "\t<tr><th scope=row>Hornet 4 Drive</th><td>21.4</td><td>6</td><td>258</td><td>110</td><td>3.08</td><td>3.215</td><td>19.44</td><td>1</td><td>0</td><td>3</td><td>1</td></tr>\n",
       "\t<tr><th scope=row>Hornet Sportabout</th><td>18.7</td><td>8</td><td>360</td><td>175</td><td>3.15</td><td>3.440</td><td>17.02</td><td>0</td><td>0</td><td>3</td><td>2</td></tr>\n",
       "\t<tr><th scope=row>Valiant</th><td>18.1</td><td>6</td><td>225</td><td>105</td><td>2.76</td><td>3.460</td><td>20.22</td><td>1</td><td>0</td><td>3</td><td>1</td></tr>\n",
       "</tbody>\n",
       "</table>\n"
      ],
      "text/latex": [
       "A data.frame: 6 × 11\n",
       "\\begin{tabular}{r|lllllllllll}\n",
       "  & mpg & cyl & disp & hp & drat & wt & qsec & vs & am & gear & carb\\\\\n",
       "  & <dbl> & <dbl> & <dbl> & <dbl> & <dbl> & <dbl> & <dbl> & <dbl> & <dbl> & <dbl> & <dbl>\\\\\n",
       "\\hline\n",
       "\tMazda RX4 & 21.0 & 6 & 160 & 110 & 3.90 & 2.620 & 16.46 & 0 & 1 & 4 & 4\\\\\n",
       "\tMazda RX4 Wag & 21.0 & 6 & 160 & 110 & 3.90 & 2.875 & 17.02 & 0 & 1 & 4 & 4\\\\\n",
       "\tDatsun 710 & 22.8 & 4 & 108 &  93 & 3.85 & 2.320 & 18.61 & 1 & 1 & 4 & 1\\\\\n",
       "\tHornet 4 Drive & 21.4 & 6 & 258 & 110 & 3.08 & 3.215 & 19.44 & 1 & 0 & 3 & 1\\\\\n",
       "\tHornet Sportabout & 18.7 & 8 & 360 & 175 & 3.15 & 3.440 & 17.02 & 0 & 0 & 3 & 2\\\\\n",
       "\tValiant & 18.1 & 6 & 225 & 105 & 2.76 & 3.460 & 20.22 & 1 & 0 & 3 & 1\\\\\n",
       "\\end{tabular}\n"
      ],
      "text/markdown": [
       "\n",
       "A data.frame: 6 × 11\n",
       "\n",
       "| <!--/--> | mpg &lt;dbl&gt; | cyl &lt;dbl&gt; | disp &lt;dbl&gt; | hp &lt;dbl&gt; | drat &lt;dbl&gt; | wt &lt;dbl&gt; | qsec &lt;dbl&gt; | vs &lt;dbl&gt; | am &lt;dbl&gt; | gear &lt;dbl&gt; | carb &lt;dbl&gt; |\n",
       "|---|---|---|---|---|---|---|---|---|---|---|---|\n",
       "| Mazda RX4 | 21.0 | 6 | 160 | 110 | 3.90 | 2.620 | 16.46 | 0 | 1 | 4 | 4 |\n",
       "| Mazda RX4 Wag | 21.0 | 6 | 160 | 110 | 3.90 | 2.875 | 17.02 | 0 | 1 | 4 | 4 |\n",
       "| Datsun 710 | 22.8 | 4 | 108 |  93 | 3.85 | 2.320 | 18.61 | 1 | 1 | 4 | 1 |\n",
       "| Hornet 4 Drive | 21.4 | 6 | 258 | 110 | 3.08 | 3.215 | 19.44 | 1 | 0 | 3 | 1 |\n",
       "| Hornet Sportabout | 18.7 | 8 | 360 | 175 | 3.15 | 3.440 | 17.02 | 0 | 0 | 3 | 2 |\n",
       "| Valiant | 18.1 | 6 | 225 | 105 | 2.76 | 3.460 | 20.22 | 1 | 0 | 3 | 1 |\n",
       "\n"
      ],
      "text/plain": [
       "                  mpg  cyl disp hp  drat wt    qsec  vs am gear carb\n",
       "Mazda RX4         21.0 6   160  110 3.90 2.620 16.46 0  1  4    4   \n",
       "Mazda RX4 Wag     21.0 6   160  110 3.90 2.875 17.02 0  1  4    4   \n",
       "Datsun 710        22.8 4   108   93 3.85 2.320 18.61 1  1  4    1   \n",
       "Hornet 4 Drive    21.4 6   258  110 3.08 3.215 19.44 1  0  3    1   \n",
       "Hornet Sportabout 18.7 8   360  175 3.15 3.440 17.02 0  0  3    2   \n",
       "Valiant           18.1 6   225  105 2.76 3.460 20.22 1  0  3    1   "
      ]
     },
     "metadata": {},
     "output_type": "display_data"
    }
   ],
   "source": [
    "head(mtcars)\n"
   ]
  },
  {
   "cell_type": "markdown",
   "id": "ed71fba7-dfee-42b4-872d-12617c964504",
   "metadata": {},
   "source": [
    "## Peek at the Data"
   ]
  },
  {
   "cell_type": "code",
   "execution_count": 21,
   "id": "59b137b3-1e82-47b1-85e9-5e3066cd2930",
   "metadata": {},
   "outputs": [
    {
     "data": {
      "text/html": [
       "<table class=\"dataframe\">\n",
       "<caption>A data.frame: 6 × 5</caption>\n",
       "<thead>\n",
       "\t<tr><th></th><th scope=col>Sepal.Length</th><th scope=col>Sepal.Width</th><th scope=col>Petal.Length</th><th scope=col>Petal.Width</th><th scope=col>Species</th></tr>\n",
       "\t<tr><th></th><th scope=col>&lt;dbl&gt;</th><th scope=col>&lt;dbl&gt;</th><th scope=col>&lt;dbl&gt;</th><th scope=col>&lt;dbl&gt;</th><th scope=col>&lt;fct&gt;</th></tr>\n",
       "</thead>\n",
       "<tbody>\n",
       "\t<tr><th scope=row>3</th><td>4.7</td><td>3.2</td><td>1.3</td><td>0.2</td><td>setosa</td></tr>\n",
       "\t<tr><th scope=row>4</th><td>4.6</td><td>3.1</td><td>1.5</td><td>0.2</td><td>setosa</td></tr>\n",
       "\t<tr><th scope=row>5</th><td>5.0</td><td>3.6</td><td>1.4</td><td>0.2</td><td>setosa</td></tr>\n",
       "\t<tr><th scope=row>7</th><td>4.6</td><td>3.4</td><td>1.4</td><td>0.3</td><td>setosa</td></tr>\n",
       "\t<tr><th scope=row>8</th><td>5.0</td><td>3.4</td><td>1.5</td><td>0.2</td><td>setosa</td></tr>\n",
       "\t<tr><th scope=row>9</th><td>4.4</td><td>2.9</td><td>1.4</td><td>0.2</td><td>setosa</td></tr>\n",
       "</tbody>\n",
       "</table>\n"
      ],
      "text/latex": [
       "A data.frame: 6 × 5\n",
       "\\begin{tabular}{r|lllll}\n",
       "  & Sepal.Length & Sepal.Width & Petal.Length & Petal.Width & Species\\\\\n",
       "  & <dbl> & <dbl> & <dbl> & <dbl> & <fct>\\\\\n",
       "\\hline\n",
       "\t3 & 4.7 & 3.2 & 1.3 & 0.2 & setosa\\\\\n",
       "\t4 & 4.6 & 3.1 & 1.5 & 0.2 & setosa\\\\\n",
       "\t5 & 5.0 & 3.6 & 1.4 & 0.2 & setosa\\\\\n",
       "\t7 & 4.6 & 3.4 & 1.4 & 0.3 & setosa\\\\\n",
       "\t8 & 5.0 & 3.4 & 1.5 & 0.2 & setosa\\\\\n",
       "\t9 & 4.4 & 2.9 & 1.4 & 0.2 & setosa\\\\\n",
       "\\end{tabular}\n"
      ],
      "text/markdown": [
       "\n",
       "A data.frame: 6 × 5\n",
       "\n",
       "| <!--/--> | Sepal.Length &lt;dbl&gt; | Sepal.Width &lt;dbl&gt; | Petal.Length &lt;dbl&gt; | Petal.Width &lt;dbl&gt; | Species &lt;fct&gt; |\n",
       "|---|---|---|---|---|---|\n",
       "| 3 | 4.7 | 3.2 | 1.3 | 0.2 | setosa |\n",
       "| 4 | 4.6 | 3.1 | 1.5 | 0.2 | setosa |\n",
       "| 5 | 5.0 | 3.6 | 1.4 | 0.2 | setosa |\n",
       "| 7 | 4.6 | 3.4 | 1.4 | 0.3 | setosa |\n",
       "| 8 | 5.0 | 3.4 | 1.5 | 0.2 | setosa |\n",
       "| 9 | 4.4 | 2.9 | 1.4 | 0.2 | setosa |\n",
       "\n"
      ],
      "text/plain": [
       "  Sepal.Length Sepal.Width Petal.Length Petal.Width Species\n",
       "3 4.7          3.2         1.3          0.2         setosa \n",
       "4 4.6          3.1         1.5          0.2         setosa \n",
       "5 5.0          3.6         1.4          0.2         setosa \n",
       "7 4.6          3.4         1.4          0.3         setosa \n",
       "8 5.0          3.4         1.5          0.2         setosa \n",
       "9 4.4          2.9         1.4          0.2         setosa "
      ]
     },
     "metadata": {},
     "output_type": "display_data"
    }
   ],
   "source": [
    "# take a peek at the first 5 rows of the data\n",
    "head(dataset)\n"
   ]
  },
  {
   "cell_type": "markdown",
   "id": "0de22ee0-f4b6-45c7-9c58-f1ff8d622b47",
   "metadata": {},
   "source": [
    "## Visualize Dataset\n",
    " Univariate Plots"
   ]
  },
  {
   "cell_type": "code",
   "execution_count": 24,
   "id": "1b401a27-d8b0-44fa-acd6-7afc0109fb8c",
   "metadata": {},
   "outputs": [],
   "source": [
    "# split input and output\n",
    "x <- dataset[,1:4]  # first 4 columns\n",
    "y <- dataset[,5]    # Species column\n"
   ]
  },
  {
   "cell_type": "markdown",
   "id": "dcbc07b7-1728-4db2-b057-73e68a1e86f0",
   "metadata": {},
   "source": [
    "## Box and Whisker Plots for numeric attributes:"
   ]
  },
  {
   "cell_type": "code",
   "execution_count": 27,
   "id": "591b32e9-ec36-4b4a-94cf-375a39581db2",
   "metadata": {},
   "outputs": [
    {
     "data": {
      "image/png": "[encoded data removed]",
      "text/plain": [
       "Plot with title \"Petal.Width\""
      ]
     },
     "metadata": {
      "image/png": {
       "height": 420,
       "width": 420
      }
     },
     "output_type": "display_data"
    }
   ],
   "source": [
    "# boxplot for each numeric attribute\n",
    "par(mfrow=c(1,4))  # arrange 1 row, 4 columns\n",
    "for(i in 1:4) {\n",
    "  boxplot(x[,i], main=names(dataset)[i])\n",
    "}\n"
   ]
  },
  {
   "cell_type": "markdown",
   "id": "a9131da3-7984-4f15-946b-2c8730843af0",
   "metadata": {},
   "source": [
    "## Bar plot for the class distribution:"
   ]
  },
  {
   "cell_type": "code",
   "execution_count": 30,
   "id": "8112fa5e-35a8-48e2-8f3a-8c1490350c7b",
   "metadata": {},
   "outputs": [
    {
     "data": {
      "image/png": "[encoded data removed]",
      "text/plain": [
       "Plot with title \"Class Distribution of Iris Species\""
      ]
     },
     "metadata": {
      "image/png": {
       "height": 420,
       "width": 420
      }
     },
     "output_type": "display_data"
    }
   ],
   "source": [
    "# bar plot for the class variable\n",
    "plot(y, main=\"Class Distribution of Iris Species\", col=c(\"skyblue\",\"orange\",\"green\"))\n"
   ]
  },
  {
   "cell_type": "markdown",
   "id": "e803f1d7-6d0f-40bc-93be-9bb26d184d70",
   "metadata": {},
   "source": [
    "## Multivariate Plots"
   ]
  },
  {
   "cell_type": "code",
   "execution_count": 35,
   "id": "df2a62b0-bedc-4457-8c09-bb659e5a8479",
   "metadata": {},
   "outputs": [
    {
     "data": {
      "image/png": "[encoded data removed]",
      "text/plain": [
       "plot without title"
      ]
     },
     "metadata": {
      "image/png": {
       "height": 420,
       "width": 420
      }
     },
     "output_type": "display_data"
    }
   ],
   "source": [
    "# basic scatterplot matrix colored by species\n",
    "pairs(x, col=y, pch=19, main=\"Scatterplot Matrix of Iris Features\")\n"
   ]
  },
  {
   "cell_type": "code",
   "execution_count": 39,
   "id": "28416ff0-e19f-4fb9-967a-ff978339934a",
   "metadata": {},
   "outputs": [
    {
     "name": "stderr",
     "output_type": "stream",
     "text": [
      "Installing package into 'C:/Users/kehin/AppData/Local/R/win-library/4.5'\n",
      "(as 'lib' is unspecified)\n",
      "\n",
      "also installing the dependencies 'patchwork', 'ggstats', 'S7'\n",
      "\n",
      "\n"
     ]
    },
    {
     "name": "stdout",
     "output_type": "stream",
     "text": [
      "package 'patchwork' successfully unpacked and MD5 sums checked\n",
      "package 'ggstats' successfully unpacked and MD5 sums checked\n",
      "package 'S7' successfully unpacked and MD5 sums checked\n",
      "package 'GGally' successfully unpacked and MD5 sums checked\n",
      "\n",
      "The downloaded binary packages are in\n",
      "\tC:\\Users\\kehin\\AppData\\Local\\Temp\\RtmpU5pej2\\downloaded_packages\n"
     ]
    }
   ],
   "source": [
    "# install GGally package\n",
    "install.packages(\"GGally\")\n",
    "\n",
    "# then load it\n",
    "library(GGally)\n"
   ]
  },
  {
   "cell_type": "code",
   "execution_count": 43,
   "id": "60e335c4-b17c-4497-a2f6-a04750e98da2",
   "metadata": {},
   "outputs": [
    {
     "data": {
      "image/png": "[encoded data removed]",
      "text/plain": [
       "plot without title"
      ]
     },
     "metadata": {
      "image/png": {
       "height": 420,
       "width": 420
      }
     },
     "output_type": "display_data"
    }
   ],
   "source": [
    "ggpairs(dataset, columns=1:4, aes(color=Species))\n"
   ]
  },
  {
   "cell_type": "code",
   "execution_count": 53,
   "id": "1a2e1112-e813-41bf-b32e-b5f0ddd68a5d",
   "metadata": {},
   "outputs": [
    {
     "data": {
      "image/png": "[encoded data removed]",
      "text/plain": [
       "plot without title"
      ]
     },
     "metadata": {
      "image/png": {
       "height": 420,
       "width": 420
      }
     },
     "output_type": "display_data"
    },
    {
     "data": {
      "image/png": "[encoded data removed]",
      "text/plain": [
       "plot without title"
      ]
     },
     "metadata": {
      "image/png": {
       "height": 420,
       "width": 420
      }
     },
     "output_type": "display_data"
    }
   ],
   "source": [
    "# Boxplots\n",
    "ggplot(iris, aes(x=Species, y=Sepal.Length, fill=Species)) +\n",
    "  geom_boxplot() +\n",
    "  theme_minimal()\n",
    "\n",
    "# Density plots\n",
    "ggplot(iris, aes(x=Sepal.Length, fill=Species)) +\n",
    "  geom_density(alpha=0.5) +\n",
    "  theme_minimal()\n"
   ]
  },
  {
   "cell_type": "markdown",
   "id": "5ba8d723-f4fb-4d38-a1d6-92610dbb28db",
   "metadata": {},
   "source": [
    "## Box and Whisker Plots for Each Attribute by Class"
   ]
  },
  {
   "cell_type": "code",
   "execution_count": 61,
   "id": "13cd7890-2d30-42fc-ac1e-c2a87f26dd20",
   "metadata": {},
   "outputs": [
    {
     "data": {
      "image/png": "[encoded data removed]",
      "text/plain": [
       "plot without title"
      ]
     },
     "metadata": {
      "image/png": {
       "height": 420,
       "width": 420
      }
     },
     "output_type": "display_data"
    }
   ],
   "source": [
    "# Boxplots for each attribute broken down by Species\n",
    "library(tidyr)\n",
    "\n",
    "# Convert iris data to long format\n",
    "iris_long <- pivot_longer(iris, cols = 1:4, names_to = \"Attribute\", values_to = \"Value\")\n",
    "\n",
    "# Boxplots\n",
    "ggplot(iris_long, aes(x = Species, y = Value, fill = Species)) +\n",
    "  geom_boxplot() +\n",
    "  facet_wrap(~ Attribute, scales = \"free_y\") +\n",
    "  theme_minimal() +\n",
    "  theme(legend.position = \"none\") +\n",
    "  labs(title = \"Box and Whisker Plots of Iris Attributes by Class\")\n"
   ]
  },
  {
   "cell_type": "markdown",
   "id": "e5a077f4-4d72-4263-b448-57b3fda07f9a",
   "metadata": {},
   "source": [
    "## Density Plots for Each Attribute by Class"
   ]
  },
  {
   "cell_type": "code",
   "execution_count": 64,
   "id": "a3c830b2-2bf7-4bfd-8546-c59238424fe0",
   "metadata": {},
   "outputs": [
    {
     "data": {
      "image/png": "[encoded data removed]",
      "text/plain": [
       "plot without title"
      ]
     },
     "metadata": {
      "image/png": {
       "height": 420,
       "width": 420
      }
     },
     "output_type": "display_data"
    }
   ],
   "source": [
    "# Density plots for each attribute by class\n",
    "ggplot(iris_long, aes(x = Value, fill = Species)) +\n",
    "  geom_density(alpha = 0.4) +\n",
    "  facet_wrap(~ Attribute, scales = \"free\") +\n",
    "  theme_minimal() +\n",
    "  labs(title = \"Density Plots of Iris Attributes by Class\")\n"
   ]
  },
  {
   "cell_type": "markdown",
   "id": "d7afe3e4-80d5-4cc7-8b50-6a0939690609",
   "metadata": {},
   "source": [
    "## Set up the test harness\n"
   ]
  },
  {
   "cell_type": "code",
   "execution_count": 67,
   "id": "0ea2a431-1b69-433e-9ea9-91b7717fabb1",
   "metadata": {},
   "outputs": [],
   "source": [
    "library(caret)\n",
    "\n",
    "# Define the control using 10-fold cross validation\n",
    "control <- trainControl(method = \"cv\", number = 10)\n",
    "metric <- \"Accuracy\"\n"
   ]
  },
  {
   "cell_type": "markdown",
   "id": "5ac743ad-2e21-4ccf-abe9-3ece95f7560a",
   "metadata": {},
   "source": [
    "## Build models"
   ]
  },
  {
   "cell_type": "code",
   "execution_count": 72,
   "id": "14f5d960-9968-4df1-a839-f9f9682782c4",
   "metadata": {},
   "outputs": [
    {
     "name": "stderr",
     "output_type": "stream",
     "text": [
      "Installing package into 'C:/Users/kehin/AppData/Local/R/win-library/4.5'\n",
      "(as 'lib' is unspecified)\n",
      "\n"
     ]
    },
    {
     "name": "stdout",
     "output_type": "stream",
     "text": [
      "package 'kernlab' successfully unpacked and MD5 sums checked\n",
      "\n",
      "The downloaded binary packages are in\n",
      "\tC:\\Users\\kehin\\AppData\\Local\\Temp\\RtmpU5pej2\\downloaded_packages\n"
     ]
    },
    {
     "name": "stderr",
     "output_type": "stream",
     "text": [
      "\n",
      "Attaching package: 'kernlab'\n",
      "\n",
      "\n",
      "The following object is masked from 'package:ggplot2':\n",
      "\n",
      "    alpha\n",
      "\n",
      "\n"
     ]
    }
   ],
   "source": [
    "install.packages(\"kernlab\")\n",
    "library(kernlab)\n",
    "fit.svm <- train(Species ~ ., data = dataset, method = \"svmRadial\", metric = metric, trControl = control)\n"
   ]
  },
  {
   "cell_type": "code",
   "execution_count": 74,
   "id": "509faa70-e9fe-4cf2-97f5-5adc9d5bb539",
   "metadata": {},
   "outputs": [],
   "source": [
    "# Define cross-validation\n",
    "control <- trainControl(method=\"cv\", number=10)\n",
    "metric <- \"Accuracy\""
   ]
  },
  {
   "cell_type": "code",
   "execution_count": 78,
   "id": "de4e5fd7-c716-4947-afde-f00f41937624",
   "metadata": {},
   "outputs": [
    {
     "name": "stderr",
     "output_type": "stream",
     "text": [
      "Installing package into 'C:/Users/kehin/AppData/Local/R/win-library/4.5'\n",
      "(as 'lib' is unspecified)\n",
      "\n"
     ]
    },
    {
     "name": "stdout",
     "output_type": "stream",
     "text": [
      "package 'randomForest' successfully unpacked and MD5 sums checked\n",
      "\n",
      "The downloaded binary packages are in\n",
      "\tC:\\Users\\kehin\\AppData\\Local\\Temp\\RtmpU5pej2\\downloaded_packages\n"
     ]
    },
    {
     "name": "stderr",
     "output_type": "stream",
     "text": [
      "Warning message:\n",
      "\"package 'kernlab' is in use and will not be installed\"\n"
     ]
    }
   ],
   "source": [
    "install.packages(\"randomForest\")\n",
    "install.packages(\"kernlab\")  # if you haven't installed it yet\n"
   ]
  },
  {
   "cell_type": "code",
   "execution_count": 80,
   "id": "72957826-2386-4e2f-bbbb-1eb9f3c8bb1c",
   "metadata": {},
   "outputs": [
    {
     "name": "stderr",
     "output_type": "stream",
     "text": [
      "randomForest 4.7-1.2\n",
      "\n",
      "Type rfNews() to see new features/changes/bug fixes.\n",
      "\n",
      "\n",
      "Attaching package: 'randomForest'\n",
      "\n",
      "\n",
      "The following object is masked from 'package:ggplot2':\n",
      "\n",
      "    margin\n",
      "\n",
      "\n",
      "The following object is masked from 'package:dplyr':\n",
      "\n",
      "    combine\n",
      "\n",
      "\n"
     ]
    }
   ],
   "source": [
    "library(randomForest)\n",
    "library(kernlab)\n",
    "set.seed(7)\n",
    "fit.rf <- train(Species~., data=dataset, method=\"rf\", metric=metric, trControl=control)\n",
    "\n",
    "set.seed(7)\n",
    "fit.svm <- train(Species~., data=dataset, method=\"svmRadial\", metric=metric, trControl=control)\n"
   ]
  },
  {
   "cell_type": "code",
   "execution_count": 82,
   "id": "ef1fcb32-a1aa-40e9-99d7-fa3e86e25e81",
   "metadata": {},
   "outputs": [
    {
     "data": {
      "text/plain": [
       "\n",
       "Call:\n",
       "summary.resamples(object = results)\n",
       "\n",
       "Models: lda, cart, knn, svm, rf \n",
       "Number of resamples: 10 \n",
       "\n",
       "Accuracy \n",
       "          Min.   1st Qu.    Median      Mean 3rd Qu. Max. NA's\n",
       "lda  0.9333333 0.9500000 1.0000000 0.9800000       1    1    0\n",
       "cart 0.8666667 0.8833333 0.9333333 0.9400000       1    1    0\n",
       "knn  0.8666667 0.9333333 1.0000000 0.9666667       1    1    0\n",
       "svm  0.8666667 0.9333333 1.0000000 0.9666667       1    1    0\n",
       "rf   0.8666667 0.9333333 0.9666667 0.9600000       1    1    0\n",
       "\n",
       "Kappa \n",
       "     Min. 1st Qu. Median Mean 3rd Qu. Max. NA's\n",
       "lda   0.9   0.925   1.00 0.97       1    1    0\n",
       "cart  0.8   0.825   0.90 0.91       1    1    0\n",
       "knn   0.8   0.900   1.00 0.95       1    1    0\n",
       "svm   0.8   0.900   1.00 0.95       1    1    0\n",
       "rf    0.8   0.900   0.95 0.94       1    1    0\n"
      ]
     },
     "metadata": {},
     "output_type": "display_data"
    },
    {
     "data": {
      "image/png": "[encoded data removed]",
      "text/plain": [
       "plot without title"
      ]
     },
     "metadata": {
      "image/png": {
       "height": 420,
       "width": 420
      }
     },
     "output_type": "display_data"
    }
   ],
   "source": [
    "# Build Models\n",
    "\n",
    "# a) Linear algorithm\n",
    "fit.lda <- train(Species ~ ., data=dataset, method=\"lda\", metric=metric, trControl=control)\n",
    "\n",
    "# b) Nonlinear algorithms\n",
    "fit.cart <- train(Species ~ ., data=dataset, method=\"rpart\", metric=metric, trControl=control)\n",
    "fit.knn  <- train(Species ~ ., data=dataset, method=\"knn\", metric=metric, trControl=control)\n",
    "\n",
    "# c) Advanced algorithms\n",
    "# Ensure kernlab is installed for SVM\n",
    "if(!require(kernlab)) install.packages(\"kernlab\")\n",
    "library(kernlab)\n",
    "fit.svm  <- train(Species ~ ., data=dataset, method=\"svmRadial\", metric=metric, trControl=control)\n",
    "\n",
    "fit.rf   <- train(Species ~ ., data=dataset, method=\"rf\", metric=metric, trControl=control)\n",
    "\n",
    "# Select Best Model\n",
    "\n",
    "# Summarize results\n",
    "results <- resamples(list(lda=fit.lda, cart=fit.cart, knn=fit.knn, svm=fit.svm, rf=fit.rf))\n",
    "summary(results)\n",
    "\n",
    "# Plot accuracy comparison\n",
    "dotplot(results)"
   ]
  },
  {
   "cell_type": "markdown",
   "id": "30313983-5e5d-4284-aaf3-b523ac1511f9",
   "metadata": {},
   "source": [
    "## Train the LDA Model"
   ]
  },
  {
   "cell_type": "code",
   "execution_count": 85,
   "id": "3a5e1c90-946e-445c-8b05-55eb0d1ac746",
   "metadata": {},
   "outputs": [
    {
     "name": "stdout",
     "output_type": "stream",
     "text": [
      "Linear Discriminant Analysis \n",
      "\n",
      "150 samples\n",
      "  4 predictor\n",
      "  3 classes: 'setosa', 'versicolor', 'virginica' \n",
      "\n",
      "No pre-processing\n",
      "Resampling: Cross-Validated (10 fold) \n",
      "Summary of sample sizes: 135, 135, 135, 135, 135, 135, ... \n",
      "Resampling results:\n",
      "\n",
      "  Accuracy  Kappa\n",
      "  0.98      0.97 \n",
      "\n"
     ]
    }
   ],
   "source": [
    "fit.lda <- train(Species ~ ., data=dataset, method=\"lda\", metric=metric, trControl=control)\n",
    "print(fit.lda)\n"
   ]
  },
  {
   "cell_type": "markdown",
   "id": "1d3e60f0-4d09-4ca8-863d-ba5f8fa10b1a",
   "metadata": {},
   "source": [
    "## Validate the Model"
   ]
  },
  {
   "cell_type": "code",
   "execution_count": 88,
   "id": "197f07df-b149-4c7d-ad83-5a01b4e1918f",
   "metadata": {},
   "outputs": [
    {
     "data": {
      "text/plain": [
       "Confusion Matrix and Statistics\n",
       "\n",
       "            Reference\n",
       "Prediction   setosa versicolor virginica\n",
       "  setosa         10          0         0\n",
       "  versicolor      0         10         1\n",
       "  virginica       0          0         9\n",
       "\n",
       "Overall Statistics\n",
       "                                          \n",
       "               Accuracy : 0.9667          \n",
       "                 95% CI : (0.8278, 0.9992)\n",
       "    No Information Rate : 0.3333          \n",
       "    P-Value [Acc > NIR] : 2.963e-13       \n",
       "                                          \n",
       "                  Kappa : 0.95            \n",
       "                                          \n",
       " Mcnemar's Test P-Value : NA              \n",
       "\n",
       "Statistics by Class:\n",
       "\n",
       "                     Class: setosa Class: versicolor Class: virginica\n",
       "Sensitivity                 1.0000            1.0000           0.9000\n",
       "Specificity                 1.0000            0.9500           1.0000\n",
       "Pos Pred Value              1.0000            0.9091           1.0000\n",
       "Neg Pred Value              1.0000            1.0000           0.9524\n",
       "Prevalence                  0.3333            0.3333           0.3333\n",
       "Detection Rate              0.3333            0.3333           0.3000\n",
       "Detection Prevalence        0.3333            0.3667           0.3000\n",
       "Balanced Accuracy           1.0000            0.9750           0.9500"
      ]
     },
     "metadata": {},
     "output_type": "display_data"
    }
   ],
   "source": [
    "predictions <- predict(fit.lda, validation)\n",
    "confusionMatrix(predictions, validation$Species)\n"
   ]
  }
 ],
 "metadata": {
  "kernelspec": {
   "display_name": "R",
   "language": "R",
   "name": "ir"
  },
  "language_info": {
   "codemirror_mode": "r",
   "file_extension": ".r",
   "mimetype": "text/x-r-source",
   "name": "R",
   "pygments_lexer": "r",
   "version": "4.5.1"
  }
 },
 "nbformat": 4,
 "nbformat_minor": 5
}
